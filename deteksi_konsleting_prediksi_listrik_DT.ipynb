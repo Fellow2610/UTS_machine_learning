{
 "cells": [
  {
   "cell_type": "markdown",
   "id": "708c5c1b",
   "metadata": {},
   "source": [
    "# Prediksi dan Deteksi Anomali Konsumsi Listrik Rumah Tangga"
   ]
  },
  {
   "cell_type": "code",
   "execution_count": null,
   "id": "92d89122",
   "metadata": {},
   "outputs": [],
   "source": [
    "\n",
    "from sklearn.tree import DecisionTreeRegressor\n",
    "\n",
    "# Decision Tree Regressor untuk prediksi konsumsi listrik\n",
    "reg_model = DecisionTreeRegressor(random_state=42)\n",
    "reg_model.fit(X_train_scaled, y_train)\n",
    "\n",
    "y_pred = reg_model.predict(X_test_scaled)\n",
    "\n",
    "# Evaluasi\n",
    "rmse = np.sqrt(mean_squared_error(y_test, y_pred))\n",
    "print(\"Root Mean Squared Error:\", rmse)\n",
    "plt.figure(figsize=(10, 4))\n",
    "plt.plot(y_test.values, label='Actual')\n",
    "plt.plot(y_pred, label='Predicted', linestyle='dashed')\n",
    "plt.title(\"Perbandingan Konsumsi Listrik Aktual vs Prediksi\")\n",
    "plt.legend()\n",
    "plt.show()\n"
   ]
  },
  {
   "cell_type": "markdown",
   "id": "a7737dd6",
   "metadata": {},
   "source": [
    "## Simulasi Dataset Penggunaan Listrik Sehari-hari (Sintetik)"
   ]
  },
  {
   "cell_type": "code",
   "execution_count": null,
   "id": "a22f23fd",
   "metadata": {},
   "outputs": [],
   "source": [
    "\n",
    "# Dataset buatan: penggunaan listrik per hari selama 60 hari\n",
    "np.random.seed(42)\n",
    "days = pd.date_range(start=\"2024-01-01\", periods=60, freq='D')\n",
    "daily_usage = np.random.normal(loc=15, scale=5, size=60).clip(min=5)  # kWh\n",
    "peak_usage = daily_usage * np.random.uniform(0.2, 0.6, size=60)\n",
    "num_devices = np.random.randint(3, 15, size=60)\n",
    "\n",
    "# Simulasi anomali (misalnya korsleting listrik)\n",
    "is_short_circuit = [1 if i in [10, 35, 48] else 0 for i in range(60)]  # hanya beberapa hari\n",
    "\n",
    "df = pd.DataFrame({\n",
    "    'date': days,\n",
    "    'day_usage_kwh': daily_usage,\n",
    "    'peak_hour_usage': peak_usage,\n",
    "    'num_devices_on': num_devices,\n",
    "    'is_short_circuit': is_short_circuit\n",
    "})\n",
    "df.set_index('date', inplace=True)\n",
    "df.head()\n"
   ]
  },
  {
   "cell_type": "markdown",
   "id": "3374351f",
   "metadata": {},
   "source": [
    "## Visualisasi Awal Penggunaan Listrik"
   ]
  },
  {
   "cell_type": "code",
   "execution_count": null,
   "id": "a2b7fad5",
   "metadata": {},
   "outputs": [],
   "source": [
    "\n",
    "plt.figure(figsize=(12,5))\n",
    "plt.plot(df.index, df['day_usage_kwh'], label='Pemakaian Harian (kWh)')\n",
    "plt.scatter(df[df['is_short_circuit']==1].index, df[df['is_short_circuit']==1]['day_usage_kwh'], color='red', label='Konsleting', zorder=5)\n",
    "plt.title(\"Penggunaan Listrik Harian dan Konsleting\")\n",
    "plt.xlabel(\"Tanggal\")\n",
    "plt.ylabel(\"kWh\")\n",
    "plt.legend()\n",
    "plt.grid(True)\n",
    "plt.tight_layout()\n",
    "plt.show()\n"
   ]
  },
  {
   "cell_type": "markdown",
   "id": "c0378d51",
   "metadata": {},
   "source": [
    "## Prediksi Konsumsi Listrik (Regresi)"
   ]
  },
  {
   "cell_type": "code",
   "execution_count": null,
   "id": "7d00e906",
   "metadata": {},
   "outputs": [],
   "source": [
    "\n",
    "from sklearn.tree import DecisionTreeRegressor\n",
    "\n",
    "# Decision Tree Regressor untuk prediksi konsumsi listrik\n",
    "reg_model = DecisionTreeRegressor(random_state=42)\n",
    "reg_model.fit(X_train_scaled, y_train)\n",
    "\n",
    "y_pred = reg_model.predict(X_test_scaled)\n",
    "\n",
    "# Evaluasi\n",
    "rmse = np.sqrt(mean_squared_error(y_test, y_pred))\n",
    "print(\"Root Mean Squared Error:\", rmse)\n",
    "plt.figure(figsize=(10, 4))\n",
    "plt.plot(y_test.values, label='Actual')\n",
    "plt.plot(y_pred, label='Predicted', linestyle='dashed')\n",
    "plt.title(\"Perbandingan Konsumsi Listrik Aktual vs Prediksi\")\n",
    "plt.legend()\n",
    "plt.show()\n"
   ]
  },
  {
   "cell_type": "markdown",
   "id": "e3d8a5ba",
   "metadata": {},
   "source": [
    "## Deteksi Anomali Penggunaan Listrik"
   ]
  },
  {
   "cell_type": "code",
   "execution_count": null,
   "id": "57299496",
   "metadata": {},
   "outputs": [],
   "source": [
    "\n",
    "features = df[['day_usage_kwh', 'peak_hour_usage', 'num_devices_on']]\n",
    "features_scaled = scaler.fit_transform(features)\n",
    "\n",
    "anomaly_model = IsolationForest(contamination=0.1, random_state=42)\n",
    "df['anomaly'] = anomaly_model.fit_predict(features_scaled)\n",
    "df['anomaly'] = df['anomaly'].map({1: 0, -1: 1})  # 1 = anomali\n",
    "\n",
    "# Tampilkan data anomali\n",
    "df[df['anomaly'] == 1]\n"
   ]
  },
  {
   "cell_type": "code",
   "execution_count": null,
   "id": "4d501431",
   "metadata": {},
   "outputs": [],
   "source": [
    "\n",
    "plt.figure(figsize=(12,5))\n",
    "plt.plot(df.index, df['day_usage_kwh'], label='Pemakaian Harian (kWh)')\n",
    "plt.scatter(df[df['anomaly']==1].index, df[df['anomaly']==1]['day_usage_kwh'], color='orange', label='Anomali', zorder=5)\n",
    "plt.scatter(df[df['is_short_circuit']==1].index, df[df['is_short_circuit']==1]['day_usage_kwh'], color='red', label='Konsleting', marker='x', zorder=5)\n",
    "plt.title(\"Deteksi Anomali dan Konsleting Listrik\")\n",
    "plt.xlabel(\"Tanggal\")\n",
    "plt.ylabel(\"kWh\")\n",
    "plt.legend()\n",
    "plt.grid(True)\n",
    "plt.tight_layout()\n",
    "plt.show()\n"
   ]
  },
  {
   "cell_type": "markdown",
   "id": "b88eb618",
   "metadata": {},
   "source": [
    "## Klasifikasi Konsleting Menggunakan KNN"
   ]
  },
  {
   "cell_type": "code",
   "execution_count": null,
   "id": "c59bcf7a",
   "metadata": {},
   "outputs": [],
   "source": [
    "\n",
    "from sklearn.tree import DecisionTreeClassifier\n",
    "\n",
    "# Fitur dan label untuk klasifikasi konsleting\n",
    "X_class = df[['day_usage_kwh', 'peak_hour_usage', 'num_devices_on']]\n",
    "y_class = df['is_short_circuit']\n",
    "\n",
    "# Split data\n",
    "Xc_train, Xc_test, yc_train, yc_test = train_test_split(X_class, y_class, test_size=0.2, random_state=42)\n",
    "\n",
    "# Scaling\n",
    "Xc_train_scaled = scaler.fit_transform(Xc_train)\n",
    "Xc_test_scaled = scaler.transform(Xc_test)\n",
    "\n",
    "# Model Decision Tree untuk klasifikasi\n",
    "dt_model = DecisionTreeClassifier(random_state=42)\n",
    "dt_model.fit(Xc_train_scaled, yc_train)\n",
    "yc_pred = dt_model.predict(Xc_test_scaled)\n",
    "\n",
    "# Evaluasi Decision Tree\n",
    "print(\"Akurasi Decision Tree:\", accuracy_score(yc_test, yc_pred))\n",
    "print(\"Laporan Klasifikasi:\n",
    "\", classification_report(yc_test, yc_pred))\n"
   ]
  }
 ],
 "metadata": {},
 "nbformat": 4,
 "nbformat_minor": 5
}
